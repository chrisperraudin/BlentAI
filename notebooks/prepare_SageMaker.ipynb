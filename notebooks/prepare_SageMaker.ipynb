{
 "cells": [
  {
   "cell_type": "code",
   "execution_count": 3,
   "id": "f2ecce29-473b-4686-b887-bef23a3597d9",
   "metadata": {
    "tags": []
   },
   "outputs": [
    {
     "name": "stdout",
     "output_type": "stream",
     "text": [
      "Collecting nibabel\n",
      "  Downloading nibabel-5.2.1-py3-none-any.whl.metadata (8.8 kB)\n",
      "Requirement already satisfied: numpy>=1.20 in /home/ec2-user/anaconda3/envs/tensorflow2_p310/lib/python3.10/site-packages (from nibabel) (1.26.4)\n",
      "Requirement already satisfied: packaging>=17 in /home/ec2-user/anaconda3/envs/tensorflow2_p310/lib/python3.10/site-packages (from nibabel) (21.3)\n",
      "Requirement already satisfied: pyparsing!=3.0.5,>=2.0.2 in /home/ec2-user/anaconda3/envs/tensorflow2_p310/lib/python3.10/site-packages (from packaging>=17->nibabel) (3.1.2)\n",
      "Downloading nibabel-5.2.1-py3-none-any.whl (3.3 MB)\n",
      "\u001b[2K   \u001b[90m━━━━━━━━━━━━━━━━━━━━━━━━━━━━━━━━━━━━━━━━\u001b[0m \u001b[32m3.3/3.3 MB\u001b[0m \u001b[31m113.6 MB/s\u001b[0m eta \u001b[36m0:00:00\u001b[0m\n",
      "\u001b[?25hInstalling collected packages: nibabel\n",
      "Successfully installed nibabel-5.2.1\n",
      "Note: you may need to restart the kernel to use updated packages.\n"
     ]
    }
   ],
   "source": [
    "pip install nibabel"
   ]
  },
  {
   "cell_type": "code",
   "execution_count": null,
   "id": "7bd643d3-ffad-499d-8375-124a0a2764b3",
   "metadata": {
    "tags": []
   },
   "outputs": [],
   "source": [
    "import os\n",
    "import zipfile\n",
    "import numpy as np\n",
    "import nibabel as nib\n",
    "import cv2\n",
    "from sklearn.model_selection import train_test_split\n",
    "from keras.models import Model\n",
    "from keras.layers import Input, Conv2D, MaxPooling2D, Conv2DTranspose, concatenate\n",
    "\n",
    "import tensorflow as tf"
   ]
  },
  {
   "cell_type": "code",
   "execution_count": 10,
   "id": "e479c236-7c28-4f8a-b0fc-7522c4a4d56b",
   "metadata": {
    "tags": []
   },
   "outputs": [
    {
     "name": "stdout",
     "output_type": "stream",
     "text": [
      "Taille du fichier (en octets) : 2787193708\n",
      "Taille du fichier (en Mo) : 2658.075054168701\n"
     ]
    }
   ],
   "source": [
    "zip_file_path = '../brats_2019.zip'  # Assurez-vous d'utiliser le chemin approprié\n",
    "\n",
    "# Obtenez les informations sur le fichier\n",
    "file_stats = os.stat(zip_file_path)\n",
    "\n",
    "# Affichez la taille du fichier en octets\n",
    "file_size_bytes = file_stats.st_size\n",
    "print(\"Taille du fichier (en octets) :\", file_size_bytes)\n",
    "\n",
    "# Convertissez la taille du fichier en mégaoctets (Mo) pour une meilleure lisibilité\n",
    "file_size_mb = file_size_bytes / (1024 * 1024)\n",
    "print(\"Taille du fichier (en Mo) :\", file_size_mb)"
   ]
  },
  {
   "cell_type": "code",
   "execution_count": 11,
   "id": "26b22848-b486-4c0b-8997-cfea5b5ab4f8",
   "metadata": {},
   "outputs": [
    {
     "name": "stdout",
     "output_type": "stream",
     "text": [
      "Fichiers extraits : ['MICCAI_BraTS_2019_Data_Training']\n"
     ]
    }
   ],
   "source": [
    "##############################################################################\n",
    "#05. dézipper le fichier BRATS_2019.zip\n",
    "##############################################################################\n",
    "\n",
    "# Spécifiez le chemin du fichier .zip\n",
    "zip_file_path = '/home/ec2-user/SageMaker/brats_2019.zip'\n",
    "\n",
    "# Spécifiez le répertoire où vous souhaitez extraire les fichiers du .zip\n",
    "extracted_directory = '/home/ec2-user/SageMaker/brain_tumor_2019/'\n",
    "\n",
    "# Créez le répertoire d'extraction s'il n'existe pas\n",
    "os.makedirs(extracted_directory, exist_ok=True)\n",
    "\n",
    "# Décompressez le fichier .zip dans le répertoire d'extraction\n",
    "with zipfile.ZipFile(zip_file_path, 'r') as zip_ref:\n",
    "    zip_ref.extractall(extracted_directory)\n",
    "\n",
    "# Vérifiez les fichiers extraits\n",
    "extracted_files = os.listdir(extracted_directory)\n",
    "print(\"Fichiers extraits :\", extracted_files)"
   ]
  },
  {
   "cell_type": "code",
   "execution_count": null,
   "id": "bd8cd6c6-55b5-4fa9-91f3-4e8e4b0b80ef",
   "metadata": {},
   "outputs": [],
   "source": []
  }
 ],
 "metadata": {
  "kernelspec": {
   "display_name": "Python 3 (ipykernel)",
   "language": "python",
   "name": "python3"
  },
  "language_info": {
   "codemirror_mode": {
    "name": "ipython",
    "version": 3
   },
   "file_extension": ".py",
   "mimetype": "text/x-python",
   "name": "python",
   "nbconvert_exporter": "python",
   "pygments_lexer": "ipython3",
   "version": "3.10.14"
  }
 },
 "nbformat": 4,
 "nbformat_minor": 5
}
